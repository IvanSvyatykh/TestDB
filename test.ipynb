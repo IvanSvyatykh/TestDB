{
 "cells": [
  {
   "metadata": {},
   "cell_type": "markdown",
   "source": "### Slice",
   "id": "d1f2d0ef4dbffe2f"
  },
  {
   "cell_type": "code",
   "id": "initial_id",
   "metadata": {
    "collapsed": true,
    "ExecuteTime": {
     "end_time": "2025-08-12T15:32:56.950594Z",
     "start_time": "2025-08-12T15:32:56.946900Z"
    }
   },
   "source": [
    "s1  = slice(200 , 500 , 2)\n",
    "s2 = slice(-)"
   ],
   "outputs": [],
   "execution_count": 7
  },
  {
   "metadata": {
    "ExecuteTime": {
     "end_time": "2025-08-12T15:32:58.159242Z",
     "start_time": "2025-08-12T15:32:58.153461Z"
    }
   },
   "cell_type": "code",
   "source": "s1.indices(100)",
   "id": "591a204940edc287",
   "outputs": [
    {
     "data": {
      "text/plain": [
       "(100, 100, 2)"
      ]
     },
     "execution_count": 8,
     "metadata": {},
     "output_type": "execute_result"
    }
   ],
   "execution_count": 8
  },
  {
   "metadata": {},
   "cell_type": "code",
   "outputs": [],
   "execution_count": null,
   "source": [
    "def __getitem__(self, item):\n",
    "        if isinstance(item, slice):\n",
    "            # Обработка среза\n",
    "            start, stop, step = item.indices(len(self.data))\n",
    "            return [self.data[i] for i in range(start, stop, step)]\n",
    "        else:\n",
    "            # Обработка обычного индекса\n",
    "            return self.data[item]"
   ],
   "id": "ad30d0fa3507b769"
  }
 ],
 "metadata": {
  "kernelspec": {
   "display_name": "Python 3",
   "language": "python",
   "name": "python3"
  },
  "language_info": {
   "codemirror_mode": {
    "name": "ipython",
    "version": 2
   },
   "file_extension": ".py",
   "mimetype": "text/x-python",
   "name": "python",
   "nbconvert_exporter": "python",
   "pygments_lexer": "ipython2",
   "version": "2.7.6"
  }
 },
 "nbformat": 4,
 "nbformat_minor": 5
}
